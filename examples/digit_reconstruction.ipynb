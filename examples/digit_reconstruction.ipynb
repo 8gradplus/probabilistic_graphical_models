{
 "cells": [
  {
   "cell_type": "code",
   "execution_count": 1,
   "metadata": {},
   "outputs": [],
   "source": [
    "from sklearn.datasets import load_digits\n",
    "import pandas as pd\n",
    "from scipy import  stats\n",
    "import networkx as nx\n",
    "import matplotlib.pyplot as plt\n",
    "from matplotlib.gridspec import GridSpec\n",
    "from itertools import product\n",
    "from scipy.io import loadmat\n",
    "import networkx as nx\n",
    "from functools import reduce\n",
    "import json\n",
    "import numpy as np\n",
    "from unittest import TestCase, TextTestRunner\n",
    "from matplotlib import colors"
   ]
  },
  {
   "cell_type": "code",
   "execution_count": 2,
   "metadata": {},
   "outputs": [],
   "source": [
    "# imports from graph package\n",
    "%matplotlib inline\n",
    "%load_ext autoreload\n",
    "%autoreload 2\n",
    "import sys\n",
    "sys.path.append('..')\n",
    "from graph.triangulation.variable_elimination import triangulate_variable_elimination\n",
    "from helper.entropy import entropy_matrix\n",
    "from helper.functional import Composition\n",
    "from graph.clique_graph import to_clique_graph\n",
    "from graph.junction_tree import to_junction_tree\n",
    "from graph.message_passing import adsorb_separator_potentials\n",
    "from graph.assign_potentials import AssignPotentials\n",
    "from graph.orient_junction_tree import orient_junction_forest\n",
    "from graph.inference.most_probable_state import most_probable_state"
   ]
  },
  {
   "cell_type": "markdown",
   "metadata": {},
   "source": [
    "### To do:\n",
    "* Provide data in a convenient form\n",
    "\n",
    "### Alternative approaches\n",
    "* Neural networks and PCA http://ieeexplore.ieee.org/document/4564577/?reload=true\n",
    "\n",
    "### Pedagogical considerations:\n",
    "* Use as baseiline the most common pixel occurance (over all pixels)\n",
    "* Use as baseline the most common occurence per pixel\n",
    "* Try to hardcore make a joint contingency table. Here we should trap into the curse of dimensionality"
   ]
  },
  {
   "cell_type": "markdown",
   "metadata": {},
   "source": [
    "### Some helper functions"
   ]
  },
  {
   "cell_type": "code",
   "execution_count": 3,
   "metadata": {},
   "outputs": [],
   "source": [
    "\"\"\"Helper functions for graph\"\"\"\n",
    "\n",
    "def undirected_graph(adjecency: np.array):\n",
    "    return nx.from_numpy_matrix(adjecency)\n",
    "\n",
    "def largest_clique_size(G: nx.Graph):\n",
    "    return max(clique_sizes(G))\n",
    "\n",
    "def clique_sizes(G:nx.Graph):\n",
    "    cliques = nx.find_cliques(G)\n",
    "    return map(len, cliques)\n",
    "\n",
    "def n_of_clique_memberships_for_node(cliques, node):\n",
    "    return sum(node in clique for clique in cliques)\n",
    "\n",
    "def n_of_clique_memberships(G:nx.Graph):\n",
    "    cliques = list(nx.find_cliques(G))\n",
    "    nodes = G.nodes\n",
    "    return [(node, n_of_clique_memberships_for_node(cliques, node)) for node in nodes]\n",
    "\n",
    "class AdjecencyMatrixFromEntropy:\n",
    "    \"\"\"Compute adjecency matrix as boolean array from entropy\"\"\"\n",
    "    \n",
    "    def __init__(self, threshold_index:int):\n",
    "        self.threshold_index = threshold_index\n",
    "        \n",
    "    def __call__(self, entropy: np.array):\n",
    "        sorted_entropy_values = np.flip(np.sort(entropy.flatten()), axis=0)\n",
    "        threshold = sorted_entropy_values[self.threshold_index]\n",
    "        return entropy >= threshold\n",
    "    \n",
    "def get_given_pixels(noisy_digit: np.array):    \n",
    "    given = dict()\n",
    "    for i, d in np.ndenumerate(noisy_digit):\n",
    "        if d < 2:\n",
    "            given.update({i[0]: int(d)})\n",
    "    return given"
   ]
  },
  {
   "cell_type": "code",
   "execution_count": 4,
   "metadata": {},
   "outputs": [],
   "source": [
    "\"\"\"Helper functions for plotting\"\"\"\n",
    "\n",
    "def show_digits(data: np.ndarray, figsize=(14, 7)):\n",
    "    \"\"\"Visualize data\"\"\"\n",
    "    digits = data\n",
    "    if len(data.shape) ==  1:\n",
    "        digits = data.reshape(1, data.shape[0])\n",
    "    fig = plt.figure(1, figsize=figsize)\n",
    "    n_digits = digits.shape[0]\n",
    "    gs = GridSpec(1, n_digits)\n",
    "    # specify colors\n",
    "    cmap = colors.ListedColormap(['white', 'black', 'gray'])\n",
    "    bounds=[0,.5,1.5, 10]\n",
    "    norm = colors.BoundaryNorm(bounds, cmap.N)\n",
    "    for idx in range(n_digits):\n",
    "        ax = fig.add_subplot(gs[0, idx])\n",
    "        image = digits[idx]\n",
    "        ax.imshow(image.reshape(20,16), cmap=cmap, norm=norm)\n",
    "        ax.xaxis.set_visible(False)\n",
    "        ax.yaxis.set_visible(False)\n",
    "    plt.show()"
   ]
  },
  {
   "cell_type": "code",
   "execution_count": 5,
   "metadata": {},
   "outputs": [],
   "source": [
    "\"\"\"Helper functions for data\"\"\"\n",
    "\n",
    "def read_json_file(path):\n",
    "    with open(path, encoding='utf-8') as data_file:\n",
    "        data = json.loads(data_file.read())\n",
    "    return data\n",
    "\n",
    "\n",
    "def randomize_digit(digit, n_pixels_to_remove = 8*20):\n",
    "    randomized = digit.copy()\n",
    "    mask=np.zeros(20*16, dtype=bool)\n",
    "    mask[: n_pixels_to_remove] = True\n",
    "    np.random.shuffle(mask)\n",
    "    randomized[mask] = 5 # encode missing pixel with value 5\n",
    "    return randomized\n",
    "\n",
    "def randomize_digits(digits, n_pixels_to_remove_per_digit = 8*20):\n",
    "    randomized_digits = []\n",
    "    for digit in range(digits.shape[0]):\n",
    "        randomized = randomize_digit(digits[digit, :], n_pixels_to_remove_per_digit)\n",
    "        randomized_digits.append(randomized)\n",
    "    return np.array(randomized_digits)"
   ]
  },
  {
   "cell_type": "markdown",
   "metadata": {},
   "source": [
    "### The problem\n",
    "* The prolem is example 9.10 of the Book \"Baysian Reasoning and Machine Leraning\" (David Barber)\n",
    "* Assume that we have binary digits (i.e. pixels which can only take the values zero and one) , where half of the pixels is not known.\n",
    "* The task is to reconstruct the missing pixels\n",
    "* The training data at hand are samples of digits with no pixels missing"
   ]
  },
  {
   "cell_type": "code",
   "execution_count": 6,
   "metadata": {},
   "outputs": [
    {
     "data": {
      "image/png": "[encoded data removed]",
      "text/plain": [
       "<matplotlib.figure.Figure at 0x7f034d26acf8>"
      ]
     },
     "metadata": {},
     "output_type": "display_data"
    },
    {
     "data": {
      "image/png": "[encoded data removed]",
      "text/plain": [
       "<matplotlib.figure.Figure at 0x7f0318148ba8>"
      ]
     },
     "metadata": {},
     "output_type": "display_data"
    }
   ],
   "source": [
    "raw = read_json_file(path='../data/binary_alpha_digits.txt')\n",
    "labels = np.array(raw['labels'])\n",
    "data = np.array(raw['data'])\n",
    "twos = data[labels == '2']\n",
    "noisy_twos = randomize_digits(twos[:10])\n",
    "show_digits(noisy_twos)\n",
    "show_digits(twos[:10])"
   ]
  },
  {
   "cell_type": "markdown",
   "metadata": {},
   "source": [
    "* ** Top row ** Examples of data we want to predict. Gray indicates missing pixels\n",
    "\n",
    "* ** Bottom row ** Training data with no pixels missing"
   ]
  },
  {
   "cell_type": "markdown",
   "metadata": {},
   "source": [
    "### Approach \n",
    "* The basic idea is to approximate the joint probability function of the pixel distribution by means of probabilistc graphs\n",
    "* Within this context we may think of a graph where each node corresponds to a pixel of the image. The correlation between these pixels is encoded in the edge structure. Conversely, the approximations to the joint pdf are encoded in the edges that are missing. Based on this we would like to infer the most probable state of an image given the pixels values we know (in the above picture we know the pixels which are either white or black)\n",
    "\n",
    "\n",
    "**Specifically we need to do the following steps:**\n",
    "\n",
    "1. Construct a Markov Network where each pixel corresponds to a node\n",
    "2. Add edges between nodes only if the pairwise in between pixel entropy (determined empirically, based on the training data) exceed a certain threshold.\n",
    "3. Triangulate this graph\n",
    "4. Construct clique graph\n",
    "5. Construct junction tree\n",
    "6. Assign potentials as empirical distributions between (pixels contained in) cliques and seperators \n",
    "7. Choose root node and orient junction tree\n",
    "8. Adsorb seperator potentials by dividing each clique potential by its parent seperator potential\n",
    "\n",
    "** Remark **\n",
    "\n",
    "Steps 5-8 correspond Algorithm 9.4 \"Learning of an unconstrained decomposable Markov network\" in the Barber Book. \n",
    "#### Now wer are ready to go!"
   ]
  },
  {
   "cell_type": "markdown",
   "metadata": {},
   "source": [
    "### Compute Entropy matrix"
   ]
  },
  {
   "cell_type": "code",
   "execution_count": 7,
   "metadata": {},
   "outputs": [],
   "source": [
    "matrix_of_pairwise_entropies = entropy_matrix(twos)"
   ]
  },
  {
   "cell_type": "markdown",
   "metadata": {},
   "source": [
    "### Train model\n",
    "* We follow the steps outlined above\n",
    "* Note that the lower the entropy threshold, the smaller the largest clique size in the (triangulated) graph\n",
    "* This is important since we are computing probabilty tables for each clique. If the clique size were too high then we will run into memory errors (for the specific problems say a clique 10 pixels leads to a tensor of rank 10). "
   ]
  },
  {
   "cell_type": "code",
   "execution_count": 8,
   "metadata": {},
   "outputs": [],
   "source": [
    "ENTROPY_THRESHOLD_INDEX = 300\n",
    "\n",
    "train = Composition(\n",
    "            AdjecencyMatrixFromEntropy(ENTROPY_THRESHOLD_INDEX),\n",
    "            undirected_graph,\n",
    "            triangulate_variable_elimination,\n",
    "            to_clique_graph,\n",
    "            to_junction_tree,\n",
    "            AssignPotentials(twos),\n",
    "            orient_junction_forest,\n",
    "            adsorb_separator_potentials)\n",
    "\n",
    "trained = train(matrix_of_pairwise_entropies)"
   ]
  },
  {
   "cell_type": "markdown",
   "metadata": {},
   "source": [
    "### Prediction\n",
    "* in the first case assume that we have an image where all pixels are missing. What would be the most probable state then?"
   ]
  },
  {
   "cell_type": "code",
   "execution_count": 9,
   "metadata": {},
   "outputs": [
    {
     "data": {
      "image/png": "[encoded data removed]",
      "text/plain": [
       "<matplotlib.figure.Figure at 0x7f0318148898>"
      ]
     },
     "metadata": {},
     "output_type": "display_data"
    }
   ],
   "source": [
    "state = most_probable_state(trained, given=dict())\n",
    "show_digits(state, figsize=(2,3))"
   ]
  },
  {
   "cell_type": "code",
   "execution_count": 10,
   "metadata": {},
   "outputs": [
    {
     "data": {
      "image/png": "[encoded data removed]",
      "text/plain": [
       "<matplotlib.figure.Figure at 0x7f0318148860>"
      ]
     },
     "metadata": {},
     "output_type": "display_data"
    }
   ],
   "source": [
    "noisy_two = noisy_twos[0]\n",
    "state = most_probable_state(trained,  given=get_given_pixels(noisy_two))\n",
    "show_digits(np.array([noisy_two, state]), figsize=(4,3))"
   ]
  },
  {
   "cell_type": "markdown",
   "metadata": {},
   "source": [
    "#### Some Remarks on Triangulating graphs\n",
    "#### Defintion \n",
    "* An undirected graph G is triangulated if every loop of length 4 or more is chordal. \n",
    "* A chord is an edge that connects two non-adjecent nodes in a loop. \n",
    "* G is also called decomposable or chordal.\n",
    "\n",
    "#### Theorem\n",
    "The following properties for an undirected graph G are equivalent\n",
    "* G is triangulated\n",
    "* The clique graph of G has a junction tree\n",
    "* There is an elimination ordering of G that does not lead to any added edges\n",
    "\n",
    "#### Triangulation algorithms\n",
    "* Triangulating a Graph  $G\\mapsto \\tilde G$ is not unique. So we wish to use this freedom in order to construct a triangulated graph $\\tilde G$ with small clique sizes. This has a crucial advanted upon inference. We need less memory to construct the ensuing clique potentials. The problem of finding $\\tilde G$ with smallest maximum clique size is NP hard. So we need some heuristics. They rely on the concept of variable elimination but differ in the way the sequence of elemeniated nodes is chosen.\n",
    "\n",
    "#### Algorithm 1: Variable elimination\n",
    "Repeat until Graph has no nodes\n",
    "        1. Pick any non-deleted node x of G\n",
    "        2. Add links to all neighbours of x\n",
    "        3. Delete node x\n",
    "\n",
    "One approach how to chose the order of nodes $\\{x_i\\}$ to be eliminated is the Rose-Tarjan elimination:\n",
    "\n",
    "#### Algorithm 2: Node elemination order\n",
    "        1. Eliminate all simplical nodes. \n",
    "        2. Eliminate node with minium numbers of links to be added\n",
    "\n",
    "A node is simplical when no extra link is introduced between it's neighbors upon node removal. Of course this check has to be done after each node removal (except for the simplicial ones) - since the graph structure will eventually change\n",
    "\n",
    "An alternative triangulation procedure is based on checking wheter a graph is triangulated. \n",
    "\n",
    "#### Algorithm 3: Maximum cardinality checking\n",
    "        Choose any node and label it 1\n",
    "        for i=2 to n:\n",
    "            Choose the node with the most labeled neighbours and label it i\n",
    "            If any two neighbours of i are not adjecent:\n",
    "                FAIL\n",
    "If there is more than one node with most labeled neighbours the tie may be broken arbritarily.       \n",
    "\n",
    "#### Algorithm 4: Triangulate graph via maximum cardinality checking\n",
    "        While Fail:\n",
    "            Run algorithm 3\n",
    "            if Fail:\n",
    "                add link between failing nodes\n",
    "\n",
    "### Visualize intermediate results for triangulated graph\n",
    "1. Entropy heatmap\n",
    "2. Adjecency matrix of untriangulated graph\n",
    "2. Adjecency matrix of untriangulated graph\n",
    "4. Number of cliques each pixel is member of in \n",
    "3. (Size of) clique distribution"
   ]
  },
  {
   "cell_type": "code",
   "execution_count": 12,
   "metadata": {},
   "outputs": [
    {
     "name": "stdout",
     "output_type": "stream",
     "text": [
      "Triangulated graph is chordal:  True\n",
      "Largest clique size:  18\n",
      "Number of cliques:  303\n"
     ]
    }
   ],
   "source": [
    "# Build and triangulate graph again, based on the entropy matrix\n",
    "\n",
    "markov_graph = Composition(\n",
    "                AdjecencyMatrixFromEntropy(ENTROPY_THRESHOLD_INDEX), \n",
    "                undirected_graph)(matrix_of_pairwise_entropies)\n",
    "\n",
    "triangulated_graph = triangulate_variable_elimination(markov_graph)\n",
    "\n",
    "print('Triangulated graph is chordal: ', nx.is_chordal(triangulated_graph))\n",
    "print('Largest clique size: ', largest_clique_size(triangulated_graph))\n",
    "print('Number of cliques: ', len(list(nx.find_cliques(triangulated_graph))))"
   ]
  },
  {
   "cell_type": "code",
   "execution_count": 35,
   "metadata": {},
   "outputs": [],
   "source": [
    "from mpl_toolkits.axes_grid1 import make_axes_locatable\n",
    "\n",
    "def heatmap(a: np.ndarray, title=None, colorbar=False, ax=None, fig=None):\n",
    "    if not ax:\n",
    "        fig, ax = plt.subplots()\n",
    "    im = ax.imshow(a, \n",
    "                   cmap='binary', \n",
    "                   #aspect='auto',\n",
    "                   interpolation='nearest')\n",
    "    ax.set_xlabel('pixel')\n",
    "    ax.set_ylabel('pixel')\n",
    "    #ax.xaxis.set_visible(False)\n",
    "    #ax.yaxis.set_visible(False)\n",
    "    if colorbar:    \n",
    "        divider = make_axes_locatable(ax)\n",
    "        cax = divider.append_axes(\"right\", size=\"5%\", pad=0.05)\n",
    "        fig.colorbar(im, cax=cax)   \n",
    "    if title:\n",
    "        ax.set_title(title)\n",
    "\n",
    "    \n",
    "def plot_clique_distribution(G: nx.Graph, title=None, ax=None):\n",
    "    if not ax:\n",
    "        fig, ax = plt.subplots()\n",
    "    sizes = list(clique_sizes(G))\n",
    "    occs = np.array(sorted([[s, sizes.count(s)] for s in set(sizes)], key=lambda x: x[0]))\n",
    "    ax.bar(occs[:, 0], occs[:, 1], color='green', alpha=.4)\n",
    "    ax.set_xlabel('clique size')\n",
    "    ax.set_ylabel('counts')\n",
    "    if title:\n",
    "        ax.set_title(title)\n",
    "  \n",
    "\n",
    "def plot_clique_memberships(G: nx.Graph, title=None, ax=None, fig=None):\n",
    "    memberships = sorted(n_of_clique_memberships(G), key= lambda t: t[0])\n",
    "    memberships_reshaped = np.array(list(map(lambda x:x[1], memberships))).reshape(20,16)\n",
    "    heatmap(memberships_reshaped, title=title,  colorbar=True, ax=ax, fig=fig)\n",
    "\n",
    "    \n",
    "def plot_analyze_graph(entropies:np.array, markov_graph: nx.Graph, triangulated: nx.Graph):\n",
    "    fig = plt.figure(figsize=(12,8))\n",
    "    gs = GridSpec(2, 3, hspace=.5, vspace=.4)\n",
    "    ax0 = fig.add_subplot(gs[0, 0])\n",
    "    ax1 = fig.add_subplot(gs[0, 1])\n",
    "    ax2 = fig.add_subplot(gs[0, 2])\n",
    "    ax3 = fig.add_subplot(gs[1, 0])\n",
    "    ax4 = fig.add_subplot(gs[1, 1])#.set_aspect(1)\n",
    "    \n",
    "    \n",
    "    heatmap(entropies, \n",
    "            title=\"Entropy\", \n",
    "            colorbar=True,\n",
    "            ax=ax0,  fig=fig)\n",
    "    \n",
    "    heatmap(nx.to_numpy_matrix(markov_graph), \n",
    "            title='Markov graph', \n",
    "            colorbar=False,\n",
    "            ax=ax1, fig=fig)\n",
    "    \n",
    "    heatmap(nx.to_numpy_matrix(triangulated), \n",
    "            title='Triangulated', \n",
    "            colorbar=False,\n",
    "            ax=ax2, fig=fig)\n",
    "    \n",
    "    plot_clique_memberships(triangulated, \n",
    "                            title='Clique memberships',\n",
    "                            ax=ax3, fig=fig)\n",
    "    \n",
    "    plot_clique_distribution(triangulated, \n",
    "                             title='Clique distribution',\n",
    "                             ax=ax4) \n",
    "    \n",
    "    plt.show()    "
   ]
  },
  {
   "cell_type": "code",
   "execution_count": 36,
   "metadata": {},
   "outputs": [
    {
     "ename": "TypeError",
     "evalue": "__init__() got an unexpected keyword argument 'vspace'",
     "output_type": "error",
     "traceback": [
      "\u001b[0;31m---------------------------------------------------------------------------\u001b[0m",
      "\u001b[0;31mTypeError\u001b[0m                                 Traceback (most recent call last)",
      "\u001b[0;32m<ipython-input-36-53cbbcd4d8cb>\u001b[0m in \u001b[0;36m<module>\u001b[0;34m()\u001b[0m\n\u001b[1;32m      6\u001b[0m \"\"\"\n\u001b[1;32m      7\u001b[0m \u001b[0;34m\u001b[0m\u001b[0m\n\u001b[0;32m----> 8\u001b[0;31m \u001b[0mplot_analyze_graph\u001b[0m\u001b[0;34m(\u001b[0m\u001b[0mmatrix_of_pairwise_entropies\u001b[0m\u001b[0;34m,\u001b[0m \u001b[0mmarkov_graph\u001b[0m\u001b[0;34m,\u001b[0m \u001b[0mtriangulated_graph\u001b[0m\u001b[0;34m)\u001b[0m\u001b[0;34m\u001b[0m\u001b[0m\n\u001b[0m\u001b[1;32m      9\u001b[0m \u001b[0;31m#plot_analyse_cliques(triangulated_graph)\u001b[0m\u001b[0;34m\u001b[0m\u001b[0;34m\u001b[0m\u001b[0m\n",
      "\u001b[0;32m<ipython-input-35-cd53f67119ac>\u001b[0m in \u001b[0;36mplot_analyze_graph\u001b[0;34m(entropies, markov_graph, triangulated)\u001b[0m\n\u001b[1;32m     40\u001b[0m \u001b[0;32mdef\u001b[0m \u001b[0mplot_analyze_graph\u001b[0m\u001b[0;34m(\u001b[0m\u001b[0mentropies\u001b[0m\u001b[0;34m:\u001b[0m\u001b[0mnp\u001b[0m\u001b[0;34m.\u001b[0m\u001b[0marray\u001b[0m\u001b[0;34m,\u001b[0m \u001b[0mmarkov_graph\u001b[0m\u001b[0;34m:\u001b[0m \u001b[0mnx\u001b[0m\u001b[0;34m.\u001b[0m\u001b[0mGraph\u001b[0m\u001b[0;34m,\u001b[0m \u001b[0mtriangulated\u001b[0m\u001b[0;34m:\u001b[0m \u001b[0mnx\u001b[0m\u001b[0;34m.\u001b[0m\u001b[0mGraph\u001b[0m\u001b[0;34m)\u001b[0m\u001b[0;34m:\u001b[0m\u001b[0;34m\u001b[0m\u001b[0m\n\u001b[1;32m     41\u001b[0m     \u001b[0mfig\u001b[0m \u001b[0;34m=\u001b[0m \u001b[0mplt\u001b[0m\u001b[0;34m.\u001b[0m\u001b[0mfigure\u001b[0m\u001b[0;34m(\u001b[0m\u001b[0mfigsize\u001b[0m\u001b[0;34m=\u001b[0m\u001b[0;34m(\u001b[0m\u001b[0;36m12\u001b[0m\u001b[0;34m,\u001b[0m\u001b[0;36m8\u001b[0m\u001b[0;34m)\u001b[0m\u001b[0;34m)\u001b[0m\u001b[0;34m\u001b[0m\u001b[0m\n\u001b[0;32m---> 42\u001b[0;31m     \u001b[0mgs\u001b[0m \u001b[0;34m=\u001b[0m \u001b[0mGridSpec\u001b[0m\u001b[0;34m(\u001b[0m\u001b[0;36m2\u001b[0m\u001b[0;34m,\u001b[0m \u001b[0;36m3\u001b[0m\u001b[0;34m,\u001b[0m \u001b[0mhspace\u001b[0m\u001b[0;34m=\u001b[0m\u001b[0;36m.5\u001b[0m\u001b[0;34m,\u001b[0m \u001b[0mvspace\u001b[0m\u001b[0;34m=\u001b[0m\u001b[0;36m.4\u001b[0m\u001b[0;34m)\u001b[0m\u001b[0;34m\u001b[0m\u001b[0m\n\u001b[0m\u001b[1;32m     43\u001b[0m     \u001b[0max0\u001b[0m \u001b[0;34m=\u001b[0m \u001b[0mfig\u001b[0m\u001b[0;34m.\u001b[0m\u001b[0madd_subplot\u001b[0m\u001b[0;34m(\u001b[0m\u001b[0mgs\u001b[0m\u001b[0;34m[\u001b[0m\u001b[0;36m0\u001b[0m\u001b[0;34m,\u001b[0m \u001b[0;36m0\u001b[0m\u001b[0;34m]\u001b[0m\u001b[0;34m)\u001b[0m\u001b[0;34m\u001b[0m\u001b[0m\n\u001b[1;32m     44\u001b[0m     \u001b[0max1\u001b[0m \u001b[0;34m=\u001b[0m \u001b[0mfig\u001b[0m\u001b[0;34m.\u001b[0m\u001b[0madd_subplot\u001b[0m\u001b[0;34m(\u001b[0m\u001b[0mgs\u001b[0m\u001b[0;34m[\u001b[0m\u001b[0;36m0\u001b[0m\u001b[0;34m,\u001b[0m \u001b[0;36m1\u001b[0m\u001b[0;34m]\u001b[0m\u001b[0;34m)\u001b[0m\u001b[0;34m\u001b[0m\u001b[0m\n",
      "\u001b[0;31mTypeError\u001b[0m: __init__() got an unexpected keyword argument 'vspace'"
     ]
    },
    {
     "data": {
      "text/plain": [
       "<matplotlib.figure.Figure at 0x7f03142c8ac8>"
      ]
     },
     "metadata": {},
     "output_type": "display_data"
    }
   ],
   "source": [
    "\"\"\"heatmap(matrix_of_pairwise_entropies, title=\"pairwise pixel entropy\", colorbar=True)\n",
    "heatmap(nx.to_numpy_matrix(markov_graph), title='Graph edges of markov graph', colorbar=True)\n",
    "heatmap(nx.to_numpy_matrix(triangulated_graph), title='Graph edges of markov graph', colorbar=True)\n",
    "plot_clique_memberships(triangulated_graph, title='clique memberships for triangulated graph')\n",
    "plot_clique_distribution(triangulated_graph, 'Clique distribution of triangulated graph')\n",
    "\"\"\"\n",
    "\n",
    "plot_analyze_graph(matrix_of_pairwise_entropies, markov_graph, triangulated_graph)\n",
    "#plot_analyse_cliques(triangulated_graph)\n"
   ]
  },
  {
   "cell_type": "code",
   "execution_count": null,
   "metadata": {},
   "outputs": [],
   "source": []
  },
  {
   "cell_type": "code",
   "execution_count": null,
   "metadata": {},
   "outputs": [],
   "source": []
  }
 ],
 "metadata": {
  "kernelspec": {
   "display_name": "Python 3",
   "language": "python",
   "name": "python3"
  },
  "language_info": {
   "codemirror_mode": {
    "name": "ipython",
    "version": 3
   },
   "file_extension": ".py",
   "mimetype": "text/x-python",
   "name": "python",
   "nbconvert_exporter": "python",
   "pygments_lexer": "ipython3",
   "version": "3.6.3"
  }
 },
 "nbformat": 4,
 "nbformat_minor": 2
}
